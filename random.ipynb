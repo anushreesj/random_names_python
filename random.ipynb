{
 "cells": [
  {
   "cell_type": "code",
   "execution_count": 54,
   "metadata": {},
   "outputs": [
    {
     "name": "stdout",
     "output_type": "stream",
     "text": [
      "['ginny']\n"
     ]
    }
   ],
   "source": [
    "\"\"\"The following code takes a input from a text file and converts it into a list and picks a random name from the list.\n",
    "random library gives an inbuilt fucntion to pick out a name from the list.\"\"\"\n",
    "\n",
    "import random  \n",
    "list_of_names=[]\n",
    "input_file=open('textnames.txt','r')\n",
    "for line in input_file:\n",
    "    line=line.strip()  #removes the additional '/n' that gets added as a part of the word\n",
    "    list_of_names.append(line) #for each line there is a word in the text file that gets added to the list_of_names list \n",
    "print(random.sample(list_of_names,1)) #random.sample fuction gives the random selection taking list/tuple/string and\n",
    "                                         #the number of random items that should be selected\n",
    "                                    \n",
    "\n"
   ]
  },
  {
   "cell_type": "code",
   "execution_count": null,
   "metadata": {},
   "outputs": [],
   "source": []
  },
  {
   "cell_type": "code",
   "execution_count": null,
   "metadata": {},
   "outputs": [],
   "source": []
  }
 ],
 "metadata": {
  "kernelspec": {
   "display_name": "Python 3",
   "language": "python",
   "name": "python3"
  },
  "language_info": {
   "codemirror_mode": {
    "name": "ipython",
    "version": 3
   },
   "file_extension": ".py",
   "mimetype": "text/x-python",
   "name": "python",
   "nbconvert_exporter": "python",
   "pygments_lexer": "ipython3",
   "version": "3.6.5"
  }
 },
 "nbformat": 4,
 "nbformat_minor": 2
}
